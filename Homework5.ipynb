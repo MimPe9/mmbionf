{
 "cells": [
  {
   "cell_type": "code",
   "execution_count": 1,
   "id": "d5837b3d",
   "metadata": {},
   "outputs": [],
   "source": [
    "import numpy as np\n",
    "import matplotlib.pyplot as plt\n",
    "import pandas as pd\n",
    "import scipy\n",
    "import seaborn as sns"
   ]
  },
  {
   "cell_type": "markdown",
   "id": "119c7154",
   "metadata": {},
   "source": [
    "### Загрузите набор данных banknote.txt. Необходимо решить задачу классификации подлинности банкнот (предсказать переменную class)."
   ]
  },
  {
   "cell_type": "code",
   "execution_count": null,
   "id": "51a94165",
   "metadata": {},
   "outputs": [],
   "source": [
    "data = pd.read_csv('banknote.txt', sep='\\s+')\n",
    "print(data)"
   ]
  }
 ],
 "metadata": {
  "kernelspec": {
   "display_name": "Bioinformatics",
   "language": "python",
   "name": "python3"
  },
  "language_info": {
   "codemirror_mode": {
    "name": "ipython",
    "version": 3
   },
   "file_extension": ".py",
   "mimetype": "text/x-python",
   "name": "python",
   "nbconvert_exporter": "python",
   "pygments_lexer": "ipython3",
   "version": "3.11.9"
  }
 },
 "nbformat": 4,
 "nbformat_minor": 5
}
