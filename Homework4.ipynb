{
 "cells": [
  {
   "cell_type": "code",
   "execution_count": 1,
   "id": "d5f4c900",
   "metadata": {},
   "outputs": [],
   "source": [
    "import numpy as np\n",
    "import matplotlib.pyplot as plt\n",
    "import pandas as pd\n",
    "import scipy\n",
    "import seaborn as sns"
   ]
  },
  {
   "cell_type": "markdown",
   "id": "a0abd655",
   "metadata": {},
   "source": [
    "### Загрузите набор данных credit-screening.txt. Выполните полную предобработку данных. Необходимо уметь объяснять каждый шаг предобработки."
   ]
  }
 ],
 "metadata": {
  "kernelspec": {
   "display_name": "Bioinformatics",
   "language": "python",
   "name": "python3"
  },
  "language_info": {
   "codemirror_mode": {
    "name": "ipython",
    "version": 3
   },
   "file_extension": ".py",
   "mimetype": "text/x-python",
   "name": "python",
   "nbconvert_exporter": "python",
   "pygments_lexer": "ipython3",
   "version": "3.11.9"
  }
 },
 "nbformat": 4,
 "nbformat_minor": 5
}
