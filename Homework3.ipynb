{
 "cells": [
  {
   "cell_type": "code",
   "execution_count": 1,
   "metadata": {},
   "outputs": [],
   "source": [
    "import numpy as np\n",
    "import matplotlib.pyplot as plt\n",
    "import pandas as pd\n",
    "import scipy"
   ]
  },
  {
   "cell_type": "markdown",
   "metadata": {},
   "source": [
    "#### Загрузите набор данных abalone, содержащий физические измерения моллюсков. Переменные: Sex (пол: M — мужской, F — женский, I — ребёнок); Length (длина раковины, мм); Diameter (диаметр, перпендикулярный длине, мм); Height (высота с мясом в раковине, мм); Whole weight (вес целого моллюска, г); Shucked weight (вес мяса, г); Viscera weight (вес внутренностей, г); Shell weight (вес раковины после сушки, г); Rings (количество колец, значение + 1,5 даёт возраст в годах)"
   ]
  },
  {
   "cell_type": "code",
   "execution_count": null,
   "metadata": {},
   "outputs": [],
   "source": []
  }
 ],
 "metadata": {
  "kernelspec": {
   "display_name": "Python 3",
   "language": "python",
   "name": "python3"
  },
  "language_info": {
   "codemirror_mode": {
    "name": "ipython",
    "version": 3
   },
   "file_extension": ".py",
   "mimetype": "text/x-python",
   "name": "python",
   "nbconvert_exporter": "python",
   "pygments_lexer": "ipython3",
   "version": "3.11.9"
  }
 },
 "nbformat": 4,
 "nbformat_minor": 2
}
